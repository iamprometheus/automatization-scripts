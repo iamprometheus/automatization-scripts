{
 "cells": [
  {
   "cell_type": "code",
   "execution_count": 1,
   "metadata": {},
   "outputs": [],
   "source": [
    "from selenium.webdriver.firefox.options import Options\n",
    "from selenium import webdriver\n",
    "from selenium.webdriver.firefox.service import Service\n",
    "from selenium.webdriver.common.by import By\n",
    "import pandas as pd"
   ]
  },
  {
   "cell_type": "code",
   "execution_count": 2,
   "metadata": {},
   "outputs": [],
   "source": [
    "\n",
    "# Especificaciones del navegador \n",
    "#\n",
    "options = Options()\n",
    "s = Service('./geckodriver.exe')\n",
    "\n",
    "#\n",
    "\n",
    "\n",
    "driver = webdriver.Firefox(options=options,service=s)"
   ]
  },
  {
   "cell_type": "code",
   "execution_count": 3,
   "metadata": {},
   "outputs": [],
   "source": [
    "urlBase = 'https://www.leagueoflegends.com/es-mx/champions/'\n",
    "driver.get(urlBase)"
   ]
  },
  {
   "cell_type": "code",
   "execution_count": 4,
   "metadata": {},
   "outputs": [],
   "source": [
    "campeones = {'aatrox','ahri','akali','akshan','alistar','amumu','anivia','annie','aphelios','ashe','aurelion-sol','azir','bard','bel-veth','blitzcrank',\n",
    "'brand','braum','caitlyn','camille','cassiopeia','cho-gath','corki','darius','diana','dr-mundo','draven','ekko','elise','evelynn','ezreal','fiddlesticks',\n",
    "'fiora','fizz','galio','gangplank','garen','gnar','gragas','graves','gwen','hecarim','heimerdinger','illaoi','irelia','ivern','janna','jarvan-iv',\n",
    "'jax','jayce','jhin','jinx','k-sante','kai-sa','kalista','karma','karthus','kassadin','katarina','kayle','kayn','kennen','kha-zix','kindred','kled',\n",
    "'kog-maw','leblanc','lee-sin','leona','lillia','lissandra','lucian','lulu','lux','malphite','malzahar','maokai','master-yi','miss-fortune','mordekaiser',\n",
    "'morgana','nami','nasus','nautilus','neeko','nidalee','nilah','nocturne','nunu','olaf','orianna','ornn','pantheon','poppy','pyke','qiyana','quinn'\n",
    ",'rakan','rammus','rek-sai','rell','renata','renekton','rengar','riven','rumble','ryze','samira','sejuani','senna','seraphine','sett','shaco','shen'\n",
    ",'shyvana','singed','sion','sivir','skarner','sona','soraka','swain','sylas','syndra','tahm-kench','taliyah','talon','taric','teemo','thresh','tristana'\n",
    ",'trundle','tryndamere','twisted-fate','twitch','udyr','urgot','varus','vayne','veigar','vel-koz','vex','vi','viego','viktor','vladimir','volibear'\n",
    ",'warwick','wukong','xayah','xerath','xin-zhao','yasuo','yone','yorick','yuumi','zac','zed','zeri','ziggs','zilean','zoe','zyra'}"
   ]
  },
  {
   "cell_type": "code",
   "execution_count": 5,
   "metadata": {},
   "outputs": [],
   "source": [
    "links = []\n",
    "for champ in campeones:\n",
    "  url = urlBase + champ\n",
    "  links.append(url)"
   ]
  },
  {
   "cell_type": "code",
   "execution_count": 11,
   "metadata": {},
   "outputs": [
    {
     "name": "stdout",
     "output_type": "stream",
     "text": [
      "546\n"
     ]
    }
   ],
   "source": [
    "links1 = driver.find_elements(By.PARTIAL_LINK_TEXT,'2015')\n",
    "links2 = driver.find_elements(By.PARTIAL_LINK_TEXT,'2014')\n",
    "for lnk in links1:\n",
    "   # get_attribute() to get all href\n",
    "    links.append(lnk.get_attribute('href'))\n",
    "for lnk in links2:\n",
    "    # get_attribute() to get all href\n",
    "    links.append(lnk.get_attribute('href'))\n",
    "print(len(links))"
   ]
  },
  {
   "cell_type": "code",
   "execution_count": 6,
   "metadata": {},
   "outputs": [
    {
     "data": {
      "text/plain": [
       "'https://www.leagueoflegends.com/es-mx/champions/urgot'"
      ]
     },
     "execution_count": 6,
     "metadata": {},
     "output_type": "execute_result"
    }
   ],
   "source": [
    "db = pd.DataFrame(links, columns=['urls'])\n",
    "db.urls[0]"
   ]
  },
  {
   "cell_type": "code",
   "execution_count": 53,
   "metadata": {},
   "outputs": [],
   "source": [
    "db.to_csv('champion_urls.csv', index=False)"
   ]
  },
  {
   "cell_type": "code",
   "execution_count": 7,
   "metadata": {},
   "outputs": [
    {
     "data": {
      "text/html": [
       "<div>\n",
       "<style scoped>\n",
       "    .dataframe tbody tr th:only-of-type {\n",
       "        vertical-align: middle;\n",
       "    }\n",
       "\n",
       "    .dataframe tbody tr th {\n",
       "        vertical-align: top;\n",
       "    }\n",
       "\n",
       "    .dataframe thead th {\n",
       "        text-align: right;\n",
       "    }\n",
       "</style>\n",
       "<table border=\"1\" class=\"dataframe\">\n",
       "  <thead>\n",
       "    <tr style=\"text-align: right;\">\n",
       "      <th></th>\n",
       "      <th>urls</th>\n",
       "    </tr>\n",
       "  </thead>\n",
       "  <tbody>\n",
       "    <tr>\n",
       "      <th>0</th>\n",
       "      <td>https://www.leagueoflegends.com/es-mx/champion...</td>\n",
       "    </tr>\n",
       "    <tr>\n",
       "      <th>1</th>\n",
       "      <td>https://www.leagueoflegends.com/es-mx/champion...</td>\n",
       "    </tr>\n",
       "    <tr>\n",
       "      <th>2</th>\n",
       "      <td>https://www.leagueoflegends.com/es-mx/champion...</td>\n",
       "    </tr>\n",
       "    <tr>\n",
       "      <th>3</th>\n",
       "      <td>https://www.leagueoflegends.com/es-mx/champion...</td>\n",
       "    </tr>\n",
       "    <tr>\n",
       "      <th>4</th>\n",
       "      <td>https://www.leagueoflegends.com/es-mx/champion...</td>\n",
       "    </tr>\n",
       "    <tr>\n",
       "      <th>...</th>\n",
       "      <td>...</td>\n",
       "    </tr>\n",
       "    <tr>\n",
       "      <th>157</th>\n",
       "      <td>https://www.leagueoflegends.com/es-mx/champion...</td>\n",
       "    </tr>\n",
       "    <tr>\n",
       "      <th>158</th>\n",
       "      <td>https://www.leagueoflegends.com/es-mx/champion...</td>\n",
       "    </tr>\n",
       "    <tr>\n",
       "      <th>159</th>\n",
       "      <td>https://www.leagueoflegends.com/es-mx/champion...</td>\n",
       "    </tr>\n",
       "    <tr>\n",
       "      <th>160</th>\n",
       "      <td>https://www.leagueoflegends.com/es-mx/champion...</td>\n",
       "    </tr>\n",
       "    <tr>\n",
       "      <th>161</th>\n",
       "      <td>https://www.leagueoflegends.com/es-mx/champion...</td>\n",
       "    </tr>\n",
       "  </tbody>\n",
       "</table>\n",
       "<p>162 rows × 1 columns</p>\n",
       "</div>"
      ],
      "text/plain": [
       "                                                  urls\n",
       "0    https://www.leagueoflegends.com/es-mx/champion...\n",
       "1    https://www.leagueoflegends.com/es-mx/champion...\n",
       "2    https://www.leagueoflegends.com/es-mx/champion...\n",
       "3    https://www.leagueoflegends.com/es-mx/champion...\n",
       "4    https://www.leagueoflegends.com/es-mx/champion...\n",
       "..                                                 ...\n",
       "157  https://www.leagueoflegends.com/es-mx/champion...\n",
       "158  https://www.leagueoflegends.com/es-mx/champion...\n",
       "159  https://www.leagueoflegends.com/es-mx/champion...\n",
       "160  https://www.leagueoflegends.com/es-mx/champion...\n",
       "161  https://www.leagueoflegends.com/es-mx/champion...\n",
       "\n",
       "[162 rows x 1 columns]"
      ]
     },
     "execution_count": 7,
     "metadata": {},
     "output_type": "execute_result"
    }
   ],
   "source": [
    "df = pd.read_csv('champion_urls.csv')\n",
    "df"
   ]
  },
  {
   "cell_type": "code",
   "execution_count": 8,
   "metadata": {},
   "outputs": [],
   "source": [
    "from time import sleep"
   ]
  },
  {
   "cell_type": "code",
   "execution_count": 9,
   "metadata": {},
   "outputs": [],
   "source": [
    "tags = []\n",
    "champs = []\n",
    "for link in df.urls:\n",
    "  driver.get(link)\n",
    "  champs.append(link.split('/')[5])\n",
    "  name = driver.find_element(By.CLASS_NAME,'style__Intro-sc-1h71ys8-2')\n",
    "  tags.append(name.text)\n"
   ]
  },
  {
   "cell_type": "code",
   "execution_count": 10,
   "metadata": {},
   "outputs": [
    {
     "data": {
      "text/html": [
       "<div>\n",
       "<style scoped>\n",
       "    .dataframe tbody tr th:only-of-type {\n",
       "        vertical-align: middle;\n",
       "    }\n",
       "\n",
       "    .dataframe tbody tr th {\n",
       "        vertical-align: top;\n",
       "    }\n",
       "\n",
       "    .dataframe thead th {\n",
       "        text-align: right;\n",
       "    }\n",
       "</style>\n",
       "<table border=\"1\" class=\"dataframe\">\n",
       "  <thead>\n",
       "    <tr style=\"text-align: right;\">\n",
       "      <th></th>\n",
       "      <th>champ</th>\n",
       "      <th>tag</th>\n",
       "    </tr>\n",
       "  </thead>\n",
       "  <tbody>\n",
       "  </tbody>\n",
       "</table>\n",
       "</div>"
      ],
      "text/plain": [
       "Empty DataFrame\n",
       "Columns: [champ, tag]\n",
       "Index: []"
      ]
     },
     "execution_count": 10,
     "metadata": {},
     "output_type": "execute_result"
    }
   ],
   "source": [
    "champAbilitiesName = pd.DataFrame(columns=['champ','tag'])\n",
    "champAbilitiesName\n"
   ]
  },
  {
   "cell_type": "code",
   "execution_count": 11,
   "metadata": {},
   "outputs": [
    {
     "data": {
      "text/html": [
       "<div>\n",
       "<style scoped>\n",
       "    .dataframe tbody tr th:only-of-type {\n",
       "        vertical-align: middle;\n",
       "    }\n",
       "\n",
       "    .dataframe tbody tr th {\n",
       "        vertical-align: top;\n",
       "    }\n",
       "\n",
       "    .dataframe thead th {\n",
       "        text-align: right;\n",
       "    }\n",
       "</style>\n",
       "<table border=\"1\" class=\"dataframe\">\n",
       "  <thead>\n",
       "    <tr style=\"text-align: right;\">\n",
       "      <th></th>\n",
       "      <th>champ</th>\n",
       "      <th>tag</th>\n",
       "    </tr>\n",
       "  </thead>\n",
       "  <tbody>\n",
       "    <tr>\n",
       "      <th>0</th>\n",
       "      <td>mordekaiser</td>\n",
       "      <td>EL RENACIDO DE HIERRO</td>\n",
       "    </tr>\n",
       "    <tr>\n",
       "      <th>1</th>\n",
       "      <td>graves</td>\n",
       "      <td>EL FORAJIDO</td>\n",
       "    </tr>\n",
       "    <tr>\n",
       "      <th>2</th>\n",
       "      <td>shen</td>\n",
       "      <td>EL OJO DEL CREPÚSCULO</td>\n",
       "    </tr>\n",
       "    <tr>\n",
       "      <th>3</th>\n",
       "      <td>renekton</td>\n",
       "      <td>EL CARNICERO DE LAS ARENAS</td>\n",
       "    </tr>\n",
       "    <tr>\n",
       "      <th>4</th>\n",
       "      <td>soraka</td>\n",
       "      <td>LA HIJA DE LAS ESTRELLAS</td>\n",
       "    </tr>\n",
       "    <tr>\n",
       "      <th>...</th>\n",
       "      <td>...</td>\n",
       "      <td>...</td>\n",
       "    </tr>\n",
       "    <tr>\n",
       "      <th>157</th>\n",
       "      <td>ashe</td>\n",
       "      <td>LA ARQUERA DE HIELO</td>\n",
       "    </tr>\n",
       "    <tr>\n",
       "      <th>158</th>\n",
       "      <td>nocturne</td>\n",
       "      <td>LA PESADILLA ETERNA</td>\n",
       "    </tr>\n",
       "    <tr>\n",
       "      <th>159</th>\n",
       "      <td>lee-sin</td>\n",
       "      <td>EL MONJE CIEGO</td>\n",
       "    </tr>\n",
       "    <tr>\n",
       "      <th>160</th>\n",
       "      <td>kennen</td>\n",
       "      <td>EL CORAZÓN DE LA TEMPESTAD</td>\n",
       "    </tr>\n",
       "    <tr>\n",
       "      <th>161</th>\n",
       "      <td>ornn</td>\n",
       "      <td>EL FUEGO DEBAJO DE LA MONTAÑA</td>\n",
       "    </tr>\n",
       "  </tbody>\n",
       "</table>\n",
       "<p>162 rows × 2 columns</p>\n",
       "</div>"
      ],
      "text/plain": [
       "           champ                            tag\n",
       "0    mordekaiser          EL RENACIDO DE HIERRO\n",
       "1         graves                    EL FORAJIDO\n",
       "2           shen          EL OJO DEL CREPÚSCULO\n",
       "3       renekton     EL CARNICERO DE LAS ARENAS\n",
       "4         soraka       LA HIJA DE LAS ESTRELLAS\n",
       "..           ...                            ...\n",
       "157         ashe            LA ARQUERA DE HIELO\n",
       "158     nocturne            LA PESADILLA ETERNA\n",
       "159      lee-sin                 EL MONJE CIEGO\n",
       "160       kennen     EL CORAZÓN DE LA TEMPESTAD\n",
       "161         ornn  EL FUEGO DEBAJO DE LA MONTAÑA\n",
       "\n",
       "[162 rows x 2 columns]"
      ]
     },
     "execution_count": 11,
     "metadata": {},
     "output_type": "execute_result"
    }
   ],
   "source": [
    "champAbilitiesName['champ'] = champs\n",
    "champAbilitiesName['tag'] = tags\n",
    "champAbilitiesName"
   ]
  },
  {
   "cell_type": "code",
   "execution_count": 12,
   "metadata": {},
   "outputs": [],
   "source": [
    "champAbilitiesName.to_csv('tagNames.csv', index=False)"
   ]
  },
  {
   "cell_type": "code",
   "execution_count": 4,
   "metadata": {},
   "outputs": [
    {
     "data": {
      "text/html": [
       "<div>\n",
       "<style scoped>\n",
       "    .dataframe tbody tr th:only-of-type {\n",
       "        vertical-align: middle;\n",
       "    }\n",
       "\n",
       "    .dataframe tbody tr th {\n",
       "        vertical-align: top;\n",
       "    }\n",
       "\n",
       "    .dataframe thead th {\n",
       "        text-align: right;\n",
       "    }\n",
       "</style>\n",
       "<table border=\"1\" class=\"dataframe\">\n",
       "  <thead>\n",
       "    <tr style=\"text-align: right;\">\n",
       "      <th></th>\n",
       "      <th>urls</th>\n",
       "    </tr>\n",
       "  </thead>\n",
       "  <tbody>\n",
       "    <tr>\n",
       "      <th>0</th>\n",
       "      <td>https://gol.gg/tournament/tournament-stats/CBL...</td>\n",
       "    </tr>\n",
       "    <tr>\n",
       "      <th>1</th>\n",
       "      <td>https://gol.gg/tournament/tournament-stats/LFL...</td>\n",
       "    </tr>\n",
       "    <tr>\n",
       "      <th>2</th>\n",
       "      <td>https://gol.gg/tournament/tournament-stats/LCK...</td>\n",
       "    </tr>\n",
       "    <tr>\n",
       "      <th>3</th>\n",
       "      <td>https://gol.gg/tournament/tournament-stats/LPL...</td>\n",
       "    </tr>\n",
       "    <tr>\n",
       "      <th>4</th>\n",
       "      <td>https://gol.gg/tournament/tournament-stats/LCO...</td>\n",
       "    </tr>\n",
       "    <tr>\n",
       "      <th>...</th>\n",
       "      <td>...</td>\n",
       "    </tr>\n",
       "    <tr>\n",
       "      <th>553</th>\n",
       "      <td>https://gol.gg/tournament/tournament-stats/EU%...</td>\n",
       "    </tr>\n",
       "    <tr>\n",
       "      <th>554</th>\n",
       "      <td>https://gol.gg/tournament/tournament-stats/NA%...</td>\n",
       "    </tr>\n",
       "    <tr>\n",
       "      <th>555</th>\n",
       "      <td>https://gol.gg/tournament/tournament-stats/EU%...</td>\n",
       "    </tr>\n",
       "    <tr>\n",
       "      <th>556</th>\n",
       "      <td>https://gol.gg/tournament/tournament-stats/Bat...</td>\n",
       "    </tr>\n",
       "    <tr>\n",
       "      <th>557</th>\n",
       "      <td>https://gol.gg/tournament/tournament-stats/Sea...</td>\n",
       "    </tr>\n",
       "  </tbody>\n",
       "</table>\n",
       "<p>558 rows × 1 columns</p>\n",
       "</div>"
      ],
      "text/plain": [
       "                                                  urls\n",
       "0    https://gol.gg/tournament/tournament-stats/CBL...\n",
       "1    https://gol.gg/tournament/tournament-stats/LFL...\n",
       "2    https://gol.gg/tournament/tournament-stats/LCK...\n",
       "3    https://gol.gg/tournament/tournament-stats/LPL...\n",
       "4    https://gol.gg/tournament/tournament-stats/LCO...\n",
       "..                                                 ...\n",
       "553  https://gol.gg/tournament/tournament-stats/EU%...\n",
       "554  https://gol.gg/tournament/tournament-stats/NA%...\n",
       "555  https://gol.gg/tournament/tournament-stats/EU%...\n",
       "556  https://gol.gg/tournament/tournament-stats/Bat...\n",
       "557  https://gol.gg/tournament/tournament-stats/Sea...\n",
       "\n",
       "[558 rows x 1 columns]"
      ]
     },
     "execution_count": 4,
     "metadata": {},
     "output_type": "execute_result"
    }
   ],
   "source": [
    "df = pd.read_csv('tournaments_urls.csv')\n",
    "df"
   ]
  },
  {
   "cell_type": "code",
   "execution_count": 5,
   "metadata": {},
   "outputs": [],
   "source": [
    "df['urls'] = df['urls'].str.replace('stats','matchlist')"
   ]
  },
  {
   "cell_type": "code",
   "execution_count": 6,
   "metadata": {},
   "outputs": [
    {
     "data": {
      "text/html": [
       "<div>\n",
       "<style scoped>\n",
       "    .dataframe tbody tr th:only-of-type {\n",
       "        vertical-align: middle;\n",
       "    }\n",
       "\n",
       "    .dataframe tbody tr th {\n",
       "        vertical-align: top;\n",
       "    }\n",
       "\n",
       "    .dataframe thead th {\n",
       "        text-align: right;\n",
       "    }\n",
       "</style>\n",
       "<table border=\"1\" class=\"dataframe\">\n",
       "  <thead>\n",
       "    <tr style=\"text-align: right;\">\n",
       "      <th></th>\n",
       "      <th>tournament_url</th>\n",
       "      <th>match_url</th>\n",
       "    </tr>\n",
       "  </thead>\n",
       "  <tbody>\n",
       "  </tbody>\n",
       "</table>\n",
       "</div>"
      ],
      "text/plain": [
       "Empty DataFrame\n",
       "Columns: [tournament_url, match_url]\n",
       "Index: []"
      ]
     },
     "execution_count": 6,
     "metadata": {},
     "output_type": "execute_result"
    }
   ],
   "source": [
    "match_data = pd.DataFrame(columns=['tournament_url','match_url'])\n",
    "match_data\n"
   ]
  },
  {
   "cell_type": "code",
   "execution_count": 7,
   "metadata": {},
   "outputs": [
    {
     "data": {
      "text/html": [
       "<div>\n",
       "<style scoped>\n",
       "    .dataframe tbody tr th:only-of-type {\n",
       "        vertical-align: middle;\n",
       "    }\n",
       "\n",
       "    .dataframe tbody tr th {\n",
       "        vertical-align: top;\n",
       "    }\n",
       "\n",
       "    .dataframe thead th {\n",
       "        text-align: right;\n",
       "    }\n",
       "</style>\n",
       "<table border=\"1\" class=\"dataframe\">\n",
       "  <thead>\n",
       "    <tr style=\"text-align: right;\">\n",
       "      <th></th>\n",
       "      <th>tournament_url</th>\n",
       "      <th>match_url</th>\n",
       "    </tr>\n",
       "  </thead>\n",
       "  <tbody>\n",
       "    <tr>\n",
       "      <th>0</th>\n",
       "      <td>https://gol.gg/tournament/tournament-matchlist...</td>\n",
       "      <td>https://gol.gg/game/stats/38684/page-preview/</td>\n",
       "    </tr>\n",
       "    <tr>\n",
       "      <th>1</th>\n",
       "      <td>https://gol.gg/tournament/tournament-matchlist...</td>\n",
       "      <td>https://gol.gg/game/stats/38683/page-preview/</td>\n",
       "    </tr>\n",
       "    <tr>\n",
       "      <th>2</th>\n",
       "      <td>https://gol.gg/tournament/tournament-matchlist...</td>\n",
       "      <td>https://gol.gg/game/stats/38682/page-preview/</td>\n",
       "    </tr>\n",
       "    <tr>\n",
       "      <th>3</th>\n",
       "      <td>https://gol.gg/tournament/tournament-matchlist...</td>\n",
       "      <td>https://gol.gg/game/stats/38681/page-preview/</td>\n",
       "    </tr>\n",
       "    <tr>\n",
       "      <th>4</th>\n",
       "      <td>https://gol.gg/tournament/tournament-matchlist...</td>\n",
       "      <td>https://gol.gg/game/stats/38680/page-preview/</td>\n",
       "    </tr>\n",
       "    <tr>\n",
       "      <th>...</th>\n",
       "      <td>...</td>\n",
       "      <td>...</td>\n",
       "    </tr>\n",
       "    <tr>\n",
       "      <th>21061</th>\n",
       "      <td>https://gol.gg/tournament/tournament-matchlist...</td>\n",
       "      <td>https://gol.gg/game/stats/327/page-game/</td>\n",
       "    </tr>\n",
       "    <tr>\n",
       "      <th>21062</th>\n",
       "      <td>https://gol.gg/tournament/tournament-matchlist...</td>\n",
       "      <td>https://gol.gg/game/stats/326/page-game/</td>\n",
       "    </tr>\n",
       "    <tr>\n",
       "      <th>21063</th>\n",
       "      <td>https://gol.gg/tournament/tournament-matchlist...</td>\n",
       "      <td>https://gol.gg/game/stats/325/page-game/</td>\n",
       "    </tr>\n",
       "    <tr>\n",
       "      <th>21064</th>\n",
       "      <td>https://gol.gg/tournament/tournament-matchlist...</td>\n",
       "      <td>https://gol.gg/game/stats/324/page-game/</td>\n",
       "    </tr>\n",
       "    <tr>\n",
       "      <th>21065</th>\n",
       "      <td>https://gol.gg/tournament/tournament-matchlist...</td>\n",
       "      <td>https://gol.gg/game/stats/323/page-game/</td>\n",
       "    </tr>\n",
       "  </tbody>\n",
       "</table>\n",
       "<p>21066 rows × 2 columns</p>\n",
       "</div>"
      ],
      "text/plain": [
       "                                          tournament_url  \\\n",
       "0      https://gol.gg/tournament/tournament-matchlist...   \n",
       "1      https://gol.gg/tournament/tournament-matchlist...   \n",
       "2      https://gol.gg/tournament/tournament-matchlist...   \n",
       "3      https://gol.gg/tournament/tournament-matchlist...   \n",
       "4      https://gol.gg/tournament/tournament-matchlist...   \n",
       "...                                                  ...   \n",
       "21061  https://gol.gg/tournament/tournament-matchlist...   \n",
       "21062  https://gol.gg/tournament/tournament-matchlist...   \n",
       "21063  https://gol.gg/tournament/tournament-matchlist...   \n",
       "21064  https://gol.gg/tournament/tournament-matchlist...   \n",
       "21065  https://gol.gg/tournament/tournament-matchlist...   \n",
       "\n",
       "                                           match_url  \n",
       "0      https://gol.gg/game/stats/38684/page-preview/  \n",
       "1      https://gol.gg/game/stats/38683/page-preview/  \n",
       "2      https://gol.gg/game/stats/38682/page-preview/  \n",
       "3      https://gol.gg/game/stats/38681/page-preview/  \n",
       "4      https://gol.gg/game/stats/38680/page-preview/  \n",
       "...                                              ...  \n",
       "21061       https://gol.gg/game/stats/327/page-game/  \n",
       "21062       https://gol.gg/game/stats/326/page-game/  \n",
       "21063       https://gol.gg/game/stats/325/page-game/  \n",
       "21064       https://gol.gg/game/stats/324/page-game/  \n",
       "21065       https://gol.gg/game/stats/323/page-game/  \n",
       "\n",
       "[21066 rows x 2 columns]"
      ]
     },
     "execution_count": 7,
     "metadata": {},
     "output_type": "execute_result"
    }
   ],
   "source": [
    "match_urls = []\n",
    "tournament_urls = []\n",
    "for url in df.urls:\n",
    "    driver.get(url)\n",
    "    links1 = driver.find_elements(By.PARTIAL_LINK_TEXT,' vs ')\n",
    "    for lnk in links1:\n",
    "        match_urls.append(lnk.get_attribute('href'))\n",
    "        tournament_urls.append(url)\n",
    "driver.close()\n",
    "match_data['tournament_url'] = tournament_urls\n",
    "match_data['match_url'] = match_urls\n",
    "\n",
    "match_data"
   ]
  },
  {
   "cell_type": "code",
   "execution_count": 2,
   "metadata": {},
   "outputs": [
    {
     "ename": "NameError",
     "evalue": "name 'match_data' is not defined",
     "output_type": "error",
     "traceback": [
      "\u001b[1;31m---------------------------------------------------------------------------\u001b[0m",
      "\u001b[1;31mNameError\u001b[0m                                 Traceback (most recent call last)",
      "\u001b[1;32mc:\\Users\\alybe\\Datos_PROPLAY\\get_data_PROPLAY.ipynb Cell 20'\u001b[0m in \u001b[0;36m<cell line: 1>\u001b[1;34m()\u001b[0m\n\u001b[1;32m----> <a href='vscode-notebook-cell:/c%3A/Users/alybe/Datos_PROPLAY/get_data_PROPLAY.ipynb#ch0000026?line=0'>1</a>\u001b[0m match_data\u001b[39m.\u001b[39mto_csv(\u001b[39m'\u001b[39m\u001b[39mmatch_data.csv\u001b[39m\u001b[39m'\u001b[39m, index\u001b[39m=\u001b[39m\u001b[39mFalse\u001b[39;00m)\n",
      "\u001b[1;31mNameError\u001b[0m: name 'match_data' is not defined"
     ]
    }
   ],
   "source": [
    "match_data.to_csv('match_data.csv', index=False)"
   ]
  },
  {
   "cell_type": "code",
   "execution_count": 3,
   "metadata": {},
   "outputs": [],
   "source": [
    "match_data = pd.read_csv('.\\Datos_PROPLAY\\match_data_2.csv')"
   ]
  },
  {
   "cell_type": "code",
   "execution_count": 4,
   "metadata": {},
   "outputs": [
    {
     "ename": "SessionNotCreatedException",
     "evalue": "Message: Session is already started\n",
     "output_type": "error",
     "traceback": [
      "\u001b[1;31m---------------------------------------------------------------------------\u001b[0m",
      "\u001b[1;31mSessionNotCreatedException\u001b[0m                Traceback (most recent call last)",
      "\u001b[1;32m~\\AppData\\Local\\Temp\\ipykernel_16884\\1642287323.py\u001b[0m in \u001b[0;36m<module>\u001b[1;34m\u001b[0m\n\u001b[0;32m      1\u001b[0m \u001b[1;32mimport\u001b[0m \u001b[0msys\u001b[0m\u001b[1;33m\u001b[0m\u001b[1;33m\u001b[0m\u001b[0m\n\u001b[1;32m----> 2\u001b[1;33m \u001b[0mdriver\u001b[0m \u001b[1;33m=\u001b[0m \u001b[0mwebdriver\u001b[0m\u001b[1;33m.\u001b[0m\u001b[0mFirefox\u001b[0m\u001b[1;33m(\u001b[0m\u001b[0moptions\u001b[0m\u001b[1;33m=\u001b[0m\u001b[0moptions\u001b[0m\u001b[1;33m,\u001b[0m\u001b[0mservice\u001b[0m\u001b[1;33m=\u001b[0m\u001b[0ms\u001b[0m\u001b[1;33m)\u001b[0m\u001b[1;33m\u001b[0m\u001b[1;33m\u001b[0m\u001b[0m\n\u001b[0m\u001b[0;32m      3\u001b[0m \u001b[0mmatch_games\u001b[0m \u001b[1;33m=\u001b[0m \u001b[1;33m[\u001b[0m\u001b[1;33m]\u001b[0m\u001b[1;33m\u001b[0m\u001b[1;33m\u001b[0m\u001b[0m\n\u001b[0;32m      4\u001b[0m \u001b[0mgame_number\u001b[0m \u001b[1;33m=\u001b[0m \u001b[1;33m[\u001b[0m\u001b[1;33m]\u001b[0m\u001b[1;33m\u001b[0m\u001b[1;33m\u001b[0m\u001b[0m\n\u001b[0;32m      5\u001b[0m \u001b[0moponents\u001b[0m \u001b[1;33m=\u001b[0m \u001b[1;33m[\u001b[0m\u001b[1;33m]\u001b[0m\u001b[1;33m\u001b[0m\u001b[1;33m\u001b[0m\u001b[0m\n",
      "\u001b[1;32m~\\Miniconda3\\envs\\geo\\lib\\site-packages\\selenium\\webdriver\\firefox\\webdriver.py\u001b[0m in \u001b[0;36m__init__\u001b[1;34m(self, firefox_profile, firefox_binary, capabilities, proxy, executable_path, options, service_log_path, service_args, service, desired_capabilities, log_path, keep_alive)\u001b[0m\n\u001b[0;32m    177\u001b[0m             \u001b[0mremote_server_addr\u001b[0m\u001b[1;33m=\u001b[0m\u001b[0mself\u001b[0m\u001b[1;33m.\u001b[0m\u001b[0mservice\u001b[0m\u001b[1;33m.\u001b[0m\u001b[0mservice_url\u001b[0m\u001b[1;33m,\u001b[0m\u001b[1;33m\u001b[0m\u001b[1;33m\u001b[0m\u001b[0m\n\u001b[0;32m    178\u001b[0m             ignore_proxy=options._ignore_local_proxy)\n\u001b[1;32m--> 179\u001b[1;33m         RemoteWebDriver.__init__(\n\u001b[0m\u001b[0;32m    180\u001b[0m             \u001b[0mself\u001b[0m\u001b[1;33m,\u001b[0m\u001b[1;33m\u001b[0m\u001b[1;33m\u001b[0m\u001b[0m\n\u001b[0;32m    181\u001b[0m             \u001b[0mcommand_executor\u001b[0m\u001b[1;33m=\u001b[0m\u001b[0mexecutor\u001b[0m\u001b[1;33m,\u001b[0m\u001b[1;33m\u001b[0m\u001b[1;33m\u001b[0m\u001b[0m\n",
      "\u001b[1;32m~\\Miniconda3\\envs\\geo\\lib\\site-packages\\selenium\\webdriver\\remote\\webdriver.py\u001b[0m in \u001b[0;36m__init__\u001b[1;34m(self, command_executor, desired_capabilities, browser_profile, proxy, keep_alive, file_detector, options)\u001b[0m\n\u001b[0;32m    266\u001b[0m         \u001b[0mself\u001b[0m\u001b[1;33m.\u001b[0m\u001b[0mfile_detector\u001b[0m \u001b[1;33m=\u001b[0m \u001b[0mfile_detector\u001b[0m \u001b[1;32mor\u001b[0m \u001b[0mLocalFileDetector\u001b[0m\u001b[1;33m(\u001b[0m\u001b[1;33m)\u001b[0m\u001b[1;33m\u001b[0m\u001b[1;33m\u001b[0m\u001b[0m\n\u001b[0;32m    267\u001b[0m         \u001b[0mself\u001b[0m\u001b[1;33m.\u001b[0m\u001b[0mstart_client\u001b[0m\u001b[1;33m(\u001b[0m\u001b[1;33m)\u001b[0m\u001b[1;33m\u001b[0m\u001b[1;33m\u001b[0m\u001b[0m\n\u001b[1;32m--> 268\u001b[1;33m         \u001b[0mself\u001b[0m\u001b[1;33m.\u001b[0m\u001b[0mstart_session\u001b[0m\u001b[1;33m(\u001b[0m\u001b[0mcapabilities\u001b[0m\u001b[1;33m,\u001b[0m \u001b[0mbrowser_profile\u001b[0m\u001b[1;33m)\u001b[0m\u001b[1;33m\u001b[0m\u001b[1;33m\u001b[0m\u001b[0m\n\u001b[0m\u001b[0;32m    269\u001b[0m \u001b[1;33m\u001b[0m\u001b[0m\n\u001b[0;32m    270\u001b[0m     \u001b[1;32mdef\u001b[0m \u001b[0m__repr__\u001b[0m\u001b[1;33m(\u001b[0m\u001b[0mself\u001b[0m\u001b[1;33m)\u001b[0m\u001b[1;33m:\u001b[0m\u001b[1;33m\u001b[0m\u001b[1;33m\u001b[0m\u001b[0m\n",
      "\u001b[1;32m~\\Miniconda3\\envs\\geo\\lib\\site-packages\\selenium\\webdriver\\remote\\webdriver.py\u001b[0m in \u001b[0;36mstart_session\u001b[1;34m(self, capabilities, browser_profile)\u001b[0m\n\u001b[0;32m    357\u001b[0m         parameters = {\"capabilities\": w3c_caps,\n\u001b[0;32m    358\u001b[0m                       \"desiredCapabilities\": capabilities}\n\u001b[1;32m--> 359\u001b[1;33m         \u001b[0mresponse\u001b[0m \u001b[1;33m=\u001b[0m \u001b[0mself\u001b[0m\u001b[1;33m.\u001b[0m\u001b[0mexecute\u001b[0m\u001b[1;33m(\u001b[0m\u001b[0mCommand\u001b[0m\u001b[1;33m.\u001b[0m\u001b[0mNEW_SESSION\u001b[0m\u001b[1;33m,\u001b[0m \u001b[0mparameters\u001b[0m\u001b[1;33m)\u001b[0m\u001b[1;33m\u001b[0m\u001b[1;33m\u001b[0m\u001b[0m\n\u001b[0m\u001b[0;32m    360\u001b[0m         \u001b[1;32mif\u001b[0m \u001b[1;34m'sessionId'\u001b[0m \u001b[1;32mnot\u001b[0m \u001b[1;32min\u001b[0m \u001b[0mresponse\u001b[0m\u001b[1;33m:\u001b[0m\u001b[1;33m\u001b[0m\u001b[1;33m\u001b[0m\u001b[0m\n\u001b[0;32m    361\u001b[0m             \u001b[0mresponse\u001b[0m \u001b[1;33m=\u001b[0m \u001b[0mresponse\u001b[0m\u001b[1;33m[\u001b[0m\u001b[1;34m'value'\u001b[0m\u001b[1;33m]\u001b[0m\u001b[1;33m\u001b[0m\u001b[1;33m\u001b[0m\u001b[0m\n",
      "\u001b[1;32m~\\Miniconda3\\envs\\geo\\lib\\site-packages\\selenium\\webdriver\\remote\\webdriver.py\u001b[0m in \u001b[0;36mexecute\u001b[1;34m(self, driver_command, params)\u001b[0m\n\u001b[0;32m    422\u001b[0m         \u001b[0mresponse\u001b[0m \u001b[1;33m=\u001b[0m \u001b[0mself\u001b[0m\u001b[1;33m.\u001b[0m\u001b[0mcommand_executor\u001b[0m\u001b[1;33m.\u001b[0m\u001b[0mexecute\u001b[0m\u001b[1;33m(\u001b[0m\u001b[0mdriver_command\u001b[0m\u001b[1;33m,\u001b[0m \u001b[0mparams\u001b[0m\u001b[1;33m)\u001b[0m\u001b[1;33m\u001b[0m\u001b[1;33m\u001b[0m\u001b[0m\n\u001b[0;32m    423\u001b[0m         \u001b[1;32mif\u001b[0m \u001b[0mresponse\u001b[0m\u001b[1;33m:\u001b[0m\u001b[1;33m\u001b[0m\u001b[1;33m\u001b[0m\u001b[0m\n\u001b[1;32m--> 424\u001b[1;33m             \u001b[0mself\u001b[0m\u001b[1;33m.\u001b[0m\u001b[0merror_handler\u001b[0m\u001b[1;33m.\u001b[0m\u001b[0mcheck_response\u001b[0m\u001b[1;33m(\u001b[0m\u001b[0mresponse\u001b[0m\u001b[1;33m)\u001b[0m\u001b[1;33m\u001b[0m\u001b[1;33m\u001b[0m\u001b[0m\n\u001b[0m\u001b[0;32m    425\u001b[0m             response['value'] = self._unwrap_value(\n\u001b[0;32m    426\u001b[0m                 response.get('value', None))\n",
      "\u001b[1;32m~\\Miniconda3\\envs\\geo\\lib\\site-packages\\selenium\\webdriver\\remote\\errorhandler.py\u001b[0m in \u001b[0;36mcheck_response\u001b[1;34m(self, response)\u001b[0m\n\u001b[0;32m    245\u001b[0m                 \u001b[0malert_text\u001b[0m \u001b[1;33m=\u001b[0m \u001b[0mvalue\u001b[0m\u001b[1;33m[\u001b[0m\u001b[1;34m'alert'\u001b[0m\u001b[1;33m]\u001b[0m\u001b[1;33m.\u001b[0m\u001b[0mget\u001b[0m\u001b[1;33m(\u001b[0m\u001b[1;34m'text'\u001b[0m\u001b[1;33m)\u001b[0m\u001b[1;33m\u001b[0m\u001b[1;33m\u001b[0m\u001b[0m\n\u001b[0;32m    246\u001b[0m             \u001b[1;32mraise\u001b[0m \u001b[0mexception_class\u001b[0m\u001b[1;33m(\u001b[0m\u001b[0mmessage\u001b[0m\u001b[1;33m,\u001b[0m \u001b[0mscreen\u001b[0m\u001b[1;33m,\u001b[0m \u001b[0mstacktrace\u001b[0m\u001b[1;33m,\u001b[0m \u001b[0malert_text\u001b[0m\u001b[1;33m)\u001b[0m  \u001b[1;31m# type: ignore[call-arg]  # mypy is not smart enough here\u001b[0m\u001b[1;33m\u001b[0m\u001b[1;33m\u001b[0m\u001b[0m\n\u001b[1;32m--> 247\u001b[1;33m         \u001b[1;32mraise\u001b[0m \u001b[0mexception_class\u001b[0m\u001b[1;33m(\u001b[0m\u001b[0mmessage\u001b[0m\u001b[1;33m,\u001b[0m \u001b[0mscreen\u001b[0m\u001b[1;33m,\u001b[0m \u001b[0mstacktrace\u001b[0m\u001b[1;33m)\u001b[0m\u001b[1;33m\u001b[0m\u001b[1;33m\u001b[0m\u001b[0m\n\u001b[0m\u001b[0;32m    248\u001b[0m \u001b[1;33m\u001b[0m\u001b[0m\n\u001b[0;32m    249\u001b[0m     \u001b[1;32mdef\u001b[0m \u001b[0m_value_or_default\u001b[0m\u001b[1;33m(\u001b[0m\u001b[0mself\u001b[0m\u001b[1;33m,\u001b[0m \u001b[0mobj\u001b[0m\u001b[1;33m:\u001b[0m \u001b[0mMapping\u001b[0m\u001b[1;33m[\u001b[0m\u001b[0m_KT\u001b[0m\u001b[1;33m,\u001b[0m \u001b[0m_VT\u001b[0m\u001b[1;33m]\u001b[0m\u001b[1;33m,\u001b[0m \u001b[0mkey\u001b[0m\u001b[1;33m:\u001b[0m \u001b[0m_KT\u001b[0m\u001b[1;33m,\u001b[0m \u001b[0mdefault\u001b[0m\u001b[1;33m:\u001b[0m \u001b[0m_VT\u001b[0m\u001b[1;33m)\u001b[0m \u001b[1;33m->\u001b[0m \u001b[0m_VT\u001b[0m\u001b[1;33m:\u001b[0m\u001b[1;33m\u001b[0m\u001b[1;33m\u001b[0m\u001b[0m\n",
      "\u001b[1;31mSessionNotCreatedException\u001b[0m: Message: Session is already started\n"
     ]
    }
   ],
   "source": [
    "import sys\n",
    "driver = webdriver.Firefox(options=options,service=s)\n",
    "match_games = []\n",
    "game_number = []\n",
    "oponents = []\n",
    "league = []\n",
    "k=1\n",
    "for match in match_data.match_url:\n",
    "    #contador\n",
    "    text = \"\\r {}/{} \".format(\n",
    "        k, len(match_data.match_url))\n",
    "    sys.stdout.write(text)\n",
    "    sys.stdout.flush()\n",
    "    k+=1\n",
    "    #bot\n",
    "    driver.get(match)\n",
    "    games = driver.find_elements(By.PARTIAL_LINK_TEXT,'GAME ')\n",
    "    tournmt = driver.find_element(By.CSS_SELECTOR, '.col-sm-7').text\n",
    "    i=1\n",
    "    for gm in games:\n",
    "        league.append(tournmt)\n",
    "        oponents.append(gm.get_attribute('title'))\n",
    "        game_number.append(str(i))\n",
    "        match_games.append(gm.get_attribute('href'))\n",
    "        i+=1\n",
    "driver.close()\n",
    "\n",
    "Pro_Games_Data = pd.DataFrame(league,columns=['Tournament'])\n",
    "#match_data['Tournament'] = tournmt\n",
    "Pro_Games_Data['Oponents'] = oponents\n",
    "Pro_Games_Data['Game_Number'] = game_number\n",
    "Pro_Games_Data['game_link'] = match_games\n"
   ]
  },
  {
   "cell_type": "code",
   "execution_count": 28,
   "metadata": {},
   "outputs": [
    {
     "name": "stdout",
     "output_type": "stream",
     "text": [
      "Home\n",
      "Tournaments\n",
      "Teams\n",
      "Players\n",
      "Champions\n",
      "Plays\n",
      "Tools\n",
      "Premium\n",
      "PREVIEW\n",
      "GAME 1\n",
      "GAME 2\n",
      "GAME 3\n",
      "GAME 4\n",
      "SUMMARY\n",
      "['https://gol.gg/game/stats/27191/page-game/', 'https://gol.gg/game/stats/27192/page-game/', 'https://gol.gg/game/stats/27193/page-game/', 'https://gol.gg/game/stats/27194/page-game/']\n"
     ]
    }
   ],
   "source": [
    "games = driver.find_elements(By.CLASS_NAME,'nav-link')\n",
    "for gam in games:\n",
    "    print(gam.text)\n",
    "opponents = driver.find_element(By.CSS_SELECTOR,'.mt-4 > h1:nth-child(1)').text\n",
    "match_games = []\n",
    "for gm in games:\n",
    "    if gm.get_attribute('title') == opponents:\n",
    "        match_games.append(gm.get_attribute('href'))\n",
    "print(match_games)\n",
    "\n",
    "        "
   ]
  }
 ],
 "metadata": {
  "kernelspec": {
   "display_name": "Bots",
   "language": "python",
   "name": "python3"
  },
  "language_info": {
   "codemirror_mode": {
    "name": "ipython",
    "version": 3
   },
   "file_extension": ".py",
   "mimetype": "text/x-python",
   "name": "python",
   "nbconvert_exporter": "python",
   "pygments_lexer": "ipython3",
   "version": "3.9.7"
  },
  "orig_nbformat": 4,
  "vscode": {
   "interpreter": {
    "hash": "81b6040c9b229c9a8e139421aa69e51e0d019c7ccdaa26777a68213528595ed4"
   }
  }
 },
 "nbformat": 4,
 "nbformat_minor": 2
}
